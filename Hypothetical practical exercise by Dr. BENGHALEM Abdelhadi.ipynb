{
 "cells": [
  {
   "cell_type": "markdown",
   "id": "87d80640",
   "metadata": {},
   "source": [
    "# Hypothetical practical exercise by Dr. BENGHALEM Abdelhadi"
   ]
  },
  {
   "cell_type": "markdown",
   "id": "b9945e10",
   "metadata": {},
   "source": [
    "let's assume you have a dataset with relevant customer information and a binary target variable for churn (1 for churned, 0 for not churned)."
   ]
  },
  {
   "cell_type": "markdown",
   "id": "a3c9fdcc",
   "metadata": {},
   "source": [
    "CustomerID\tAge\t  income         TotalSpend\t      Churn\n",
    "1\t        35\t  55000\t           2000                 0\n",
    "2\t        45\t  75000\t           4000                0\n",
    "3\t        30\t  40000\t            1500                1\n",
    "4\t        50\t  85000\t            6000                0\n",
    "5\t        25\t  30000\t            800                1\n",
    "6\t        60\t  100000\t        8000                0\n",
    "7\t        40\t  60000\t            3500                0\n",
    "8\t        28\t  32000\t            1200                1\n",
    "9\t        55\t  90000\t            7000                0\n",
    "10\t        32\t  42000\t            1000               1"
   ]
  },
  {
   "cell_type": "markdown",
   "id": "c95b4440",
   "metadata": {},
   "source": [
    "In this example, we have the following columns:\n",
    "\n",
    "CustomerID: Unique identifier for each customer.\n",
    "Age: Age of the customer.\n",
    "Income: Annual income of the customer.\n",
    "TotalSpend: Total amount spent by the customer.\n",
    "Churn: Binary variable indicating whether the customer has churned (1 for churned, 0 for not churned)."
   ]
  },
  {
   "cell_type": "markdown",
   "id": "a430d4a3",
   "metadata": {},
   "source": [
    "## Building a decision tree model for customer churn prediction in R"
   ]
  },
  {
   "cell_type": "markdown",
   "id": "8d817be5",
   "metadata": {},
   "source": [
    "These lines load the required R packages: rpart for building decision trees and rpart.plot for visualizing the decision tree."
   ]
  },
  {
   "cell_type": "code",
   "execution_count": 11,
   "id": "8ae0ed56",
   "metadata": {},
   "outputs": [],
   "source": [
    "# Load the necessary libraries\n",
    "library(rpart)  # For building decision trees\n",
    "library(rpart.plot)  # For plotting the decision tree"
   ]
  },
  {
   "cell_type": "markdown",
   "id": "7b1273be",
   "metadata": {},
   "source": [
    "This code creates a data frame customer_churn_data from the provided data. It includes columns for CustomerID, Age, Income, TotalSpend, and Churn. This data frame serves as the dataset for the analysis."
   ]
  },
  {
   "cell_type": "code",
   "execution_count": 12,
   "id": "a688e594",
   "metadata": {},
   "outputs": [],
   "source": [
    "# Create a data frame from the provided data\n",
    "customer_churn_data <- data.frame(\n",
    "  CustomerID = 1:10,\n",
    "  Age = c(35, 45, 30, 50, 25, 60, 40, 28, 55, 32),\n",
    "  Income = c(55000, 75000, 40000, 85000, 30000, 100000, 60000, 32000, 90000, 42000),\n",
    "  TotalSpend = c(2000, 4000, 1500, 6000, 800, 8000, 3500, 1200, 7000, 1800),\n",
    "  Churn = c(0, 0, 1, 0, 1, 0, 0, 1, 0, 1)\n",
    ")"
   ]
  },
  {
   "cell_type": "markdown",
   "id": "9dac6692",
   "metadata": {},
   "source": [
    "This code randomly splits the data into training and testing sets. It sets a random seed for reproducibility, and it randomly selects 70% of the data for training (train_data) and the remaining 30% for testing (test_data)."
   ]
  },
  {
   "cell_type": "code",
   "execution_count": 13,
   "id": "5ffff41a",
   "metadata": {},
   "outputs": [],
   "source": [
    "# Split the data into training and testing sets\n",
    "set.seed(123)\n",
    "sample_index <- sample(1:nrow(customer_churn_data), 0.7 * nrow(customer_churn_data))\n",
    "train_data <- customer_churn_data[sample_index, ]\n",
    "test_data <- customer_churn_data[-sample_index, ]\n"
   ]
  },
  {
   "cell_type": "markdown",
   "id": "09140734",
   "metadata": {},
   "source": [
    "This code builds a decision tree model using the rpart function. It uses the formula Churn ~ Age + Income + TotalSpend, indicating that we want to predict Churn based on Age, Income, and TotalSpend. The method = \"class\" specifies that this is a classification problem."
   ]
  },
  {
   "cell_type": "code",
   "execution_count": 14,
   "id": "b3e14a64",
   "metadata": {},
   "outputs": [],
   "source": [
    "# Build the decision tree model\n",
    "churn_tree <- rpart(Churn ~ Age + Income + TotalSpend, data = train_data, method = \"class\")"
   ]
  },
  {
   "cell_type": "markdown",
   "id": "8bac1d12",
   "metadata": {},
   "source": [
    "These lines visualize the decision tree using the rpart.plot package. It generates a graphical representation of the decision tree model you built."
   ]
  },
  {
   "cell_type": "code",
   "execution_count": 15,
   "id": "b403e0ce",
   "metadata": {},
   "outputs": [
    {
     "data": {
      "image/png": "[encoded data removed]",
      "text/plain": [
       "plot without title"
      ]
     },
     "metadata": {
      "image/png": {
       "height": 420,
       "width": 420
      }
     },
     "output_type": "display_data"
    }
   ],
   "source": [
    "# Visualize the decision tree\n",
    "rpart.plot(churn_tree, box.palette = \"GnBu\", type = 4, extra = 101)"
   ]
  },
  {
   "cell_type": "markdown",
   "id": "5b40f824",
   "metadata": {},
   "source": [
    "Here, we evaluate the decision tree model using the test dataset. We use the predict function to make predictions, create a confusion matrix to assess the model's performance, and calculate the accuracy of the model."
   ]
  },
  {
   "cell_type": "code",
   "execution_count": 16,
   "id": "92233330",
   "metadata": {},
   "outputs": [],
   "source": [
    "# Evaluate the model using the test dataset\n",
    "test_predictions <- predict(churn_tree, test_data, type = \"class\")\n",
    "confusion_matrix <- table(Actual = test_data$Churn, Predicted = test_predictions)\n",
    "accuracy <- sum(diag(confusion_matrix)) / sum(confusion_matrix)"
   ]
  },
  {
   "cell_type": "markdown",
   "id": "797a62d0",
   "metadata": {},
   "source": [
    "These lines print the confusion matrix and accuracy to the R console, giving you insight into the model's performance."
   ]
  },
  {
   "cell_type": "code",
   "execution_count": 17,
   "id": "26e8c120",
   "metadata": {},
   "outputs": [
    {
     "name": "stdout",
     "output_type": "stream",
     "text": [
      "      Predicted\n",
      "Actual 0 1\n",
      "     0 2 0\n",
      "     1 1 0\n",
      "Accuracy:  0.6666667 \n"
     ]
    }
   ],
   "source": [
    "# Print the confusion matrix and accuracy\n",
    "print(confusion_matrix)\n",
    "cat(\"Accuracy: \", accuracy, \"\\n\")"
   ]
  },
  {
   "cell_type": "markdown",
   "id": "91050ed9",
   "metadata": {},
   "source": [
    "The accuracy of the model is approximately 0.6667 or 66.67%. This means that the model correctly predicted the outcome for about 66.67% of the cases in the test dataset.\n",
    "\n",
    "While accuracy is a common metric for evaluating models, it's important to consider the context and specific business goals. In this case, the model's accuracy indicates that it correctly predicted customer churn in two-thirds of the cases."
   ]
  },
  {
   "cell_type": "markdown",
   "id": "a73fadb4",
   "metadata": {},
   "source": [
    "## Prediction"
   ]
  },
  {
   "cell_type": "markdown",
   "id": "0363b5bf",
   "metadata": {},
   "source": [
    "Create a data frame with the new customer information, similar to what we did earlier:"
   ]
  },
  {
   "cell_type": "code",
   "execution_count": 18,
   "id": "91aade0d",
   "metadata": {},
   "outputs": [],
   "source": [
    "# Create a data frame with new customer information\n",
    "new_customer_data <- data.frame(Age = 38, Income = 60000, TotalSpend = 2500)"
   ]
  },
  {
   "cell_type": "markdown",
   "id": "2073f22e",
   "metadata": {},
   "source": [
    "Use the decision tree model to predict churn for the new customer"
   ]
  },
  {
   "cell_type": "code",
   "execution_count": 19,
   "id": "9490c15e",
   "metadata": {},
   "outputs": [
    {
     "name": "stdout",
     "output_type": "stream",
     "text": [
      "Predicted Churn (1 for churned, 0 for not churned):  1 \n"
     ]
    }
   ],
   "source": [
    "# Use the decision tree model to predict churn\n",
    "predicted_churn <- predict(churn_tree, new_customer_data, type = \"class\")\n",
    "\n",
    "# Print the prediction\n",
    "cat(\"Predicted Churn (1 for churned, 0 for not churned): \", predicted_churn, \"\\n\")\n"
   ]
  },
  {
   "cell_type": "markdown",
   "id": "42ee87f7",
   "metadata": {},
   "source": [
    "For the new customer with an age of 38, an income of 60,000 da, and a total spend of 2,500 da, the model predicts a churn status of 1, which means that it predicts this customer is likely to churn."
   ]
  }
 ],
 "metadata": {
  "kernelspec": {
   "display_name": "R",
   "language": "R",
   "name": "ir"
  },
  "language_info": {
   "codemirror_mode": "r",
   "file_extension": ".r",
   "mimetype": "text/x-r-source",
   "name": "R",
   "pygments_lexer": "r",
   "version": "4.1.3"
  }
 },
 "nbformat": 4,
 "nbformat_minor": 5
}
