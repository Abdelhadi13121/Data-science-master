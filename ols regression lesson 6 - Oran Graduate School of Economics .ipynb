{
 "cells": [
  {
   "cell_type": "markdown",
   "id": "8c3ff887",
   "metadata": {},
   "source": [
    "to create a scatter plot with highlighting residuals, a fitted line, and the equation in a Jupyter Notebook using R, you can use the ggplot2 package for data visualization. Here's how you can do it in R:"
   ]
  },
  {
   "cell_type": "code",
   "execution_count": 12,
   "id": "77dade37",
   "metadata": {},
   "outputs": [
    {
     "data": {
      "text/plain": [
       "\n",
       "Call:\n",
       "lm(formula = yi ~ xi, data = data)\n",
       "\n",
       "Residuals:\n",
       "    Min      1Q  Median      3Q     Max \n",
       "-2.8754 -1.8006 -0.8624  1.7350  4.5141 \n",
       "\n",
       "Coefficients:\n",
       "            Estimate Std. Error t value Pr(>|t|)    \n",
       "(Intercept)   32.694      1.918   17.04 1.43e-07 ***\n",
       "xi            -1.403      0.130  -10.79 4.80e-06 ***\n",
       "---\n",
       "Signif. codes:  0 '***' 0.001 '**' 0.01 '*' 0.05 '.' 0.1 ' ' 1\n",
       "\n",
       "Residual standard error: 2.944 on 8 degrees of freedom\n",
       "Multiple R-squared:  0.9357,\tAdjusted R-squared:  0.9276 \n",
       "F-statistic: 116.4 on 1 and 8 DF,  p-value: 4.805e-06\n"
      ]
     },
     "metadata": {},
     "output_type": "display_data"
    }
   ],
   "source": [
    "# Create a data frame\n",
    "data <- data.frame(\n",
    "  yi = c(33, 25, 25, 20, 17, 10, 7, 5, 2, 2),\n",
    "  xi = c(3, 5, 5, 7, 13, 15, 17, 19, 20, 25)\n",
    ")\n",
    "\n",
    "# Fit the OLS regression model\n",
    "model <- lm(yi ~ xi, data)\n",
    "\n",
    "# Print the summary\n",
    "summary(model)"
   ]
  },
  {
   "cell_type": "code",
   "execution_count": 13,
   "id": "7842b639",
   "metadata": {},
   "outputs": [],
   "source": [
    "library(ggplot2)"
   ]
  },
  {
   "cell_type": "code",
   "execution_count": 11,
   "id": "7037f6d5",
   "metadata": {},
   "outputs": [
    {
     "data": {
      "image/png": "[encoded data removed]",
      "text/plain": [
       "plot without title"
      ]
     },
     "metadata": {
      "image/png": {
       "height": 420,
       "width": 420
      }
     },
     "output_type": "display_data"
    }
   ],
   "source": [
    "p <- ggplot(data, aes(x = xi, y = yi)) +\n",
    "  geom_point(color = \"blue\", size = 3) +\n",
    "  geom_smooth(method = \"lm\", color = \"red\", se = FALSE, formula = y ~ x) +\n",
    "  geom_segment(aes(xend = xi, yend = fitted(model)), color = \"green\") +\n",
    "  geom_text(aes(label = paste(\"Residual = \", round(resid(model), 2))), hjust = -0.5, vjust = -0.5, color = \"green\") +\n",
    "  geom_text(aes(x = 10, y = 30, label = paste(\"yi =\", round(coef(model)[1], 2), \"+\", round(coef(model)[2], 2), \" * xi\")), color = \"red\") +\n",
    "  labs(title = \"Scatter Plot with Fitted Line and Residuals\") +\n",
    "  theme_minimal()\n",
    "  \n",
    "print(p)\n"
   ]
  },
  {
   "cell_type": "markdown",
   "id": "c3fe7cb9",
   "metadata": {},
   "source": [
    "In the code above:\n",
    "We create a scatter plot of your data using ggplot2.\n",
    "We add the fitted line from the OLS regression.\n",
    "We calculate the residuals and highlight them using green line segments, with labels for each residual.\n",
    "We display the equation of the fitted line on the plot."
   ]
  },
  {
   "cell_type": "code",
   "execution_count": null,
   "id": "7301e2f1",
   "metadata": {},
   "outputs": [],
   "source": []
  }
 ],
 "metadata": {
  "kernelspec": {
   "display_name": "R",
   "language": "R",
   "name": "ir"
  },
  "language_info": {
   "codemirror_mode": "r",
   "file_extension": ".r",
   "mimetype": "text/x-r-source",
   "name": "R",
   "pygments_lexer": "r",
   "version": "4.1.3"
  }
 },
 "nbformat": 4,
 "nbformat_minor": 5
}
